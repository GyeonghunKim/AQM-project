{
 "cells": [
  {
   "cell_type": "code",
   "execution_count": 257,
   "id": "b47040e5-a168-41ea-96ea-9c758706796a",
   "metadata": {},
   "outputs": [],
   "source": [
    "import numpy as np\n",
    "import pandas as pd\n",
    "import matplotlib.pyplot as plt"
   ]
  },
  {
   "cell_type": "code",
   "execution_count": 261,
   "id": "3e4639d3-11fd-48f6-a050-d41c451a84ca",
   "metadata": {},
   "outputs": [],
   "source": [
    "df = pd.read_csv('../../aqm-final-cversion/build/result.txt')"
   ]
  },
  {
   "cell_type": "code",
   "execution_count": 262,
   "id": "71866614-5054-48aa-8c23-0f834f4e43bc",
   "metadata": {},
   "outputs": [],
   "source": [
    "n_list = np.cumsum(df['N'].to_numpy()) / np.arange(1, len(df)+1)\n",
    "e_list = np.cumsum(df['E'].to_numpy()) / np.arange(1, len(df)+1)\n",
    "w_list = np.cumsum(df['W'].to_numpy()**2) / np.arange(1, len(df)+1) / (1.1 * 8)\n",
    "x_list = 0.01 * np.cumsum(df['X'].to_numpy()) / np.arange(1, len(df)+1)"
   ]
  },
  {
   "cell_type": "code",
   "execution_count": 263,
   "id": "ac1c6815-e32b-4fe6-8904-9966b02f9c8b",
   "metadata": {},
   "outputs": [
    {
     "data": {
      "text/plain": [
       "75.2633384304684"
      ]
     },
     "execution_count": 263,
     "metadata": {},
     "output_type": "execute_result"
    }
   ],
   "source": [
    "np.mean(x_list[-10000:])"
   ]
  },
  {
   "cell_type": "code",
   "execution_count": null,
   "id": "ed9f068b-d1dd-4d12-a12b-7968b0904d3c",
   "metadata": {},
   "outputs": [],
   "source": []
  },
  {
   "cell_type": "code",
   "execution_count": null,
   "id": "91899830-1a46-49e3-89ab-bdf5c203c3db",
   "metadata": {},
   "outputs": [],
   "source": []
  }
 ],
 "metadata": {
  "kernelspec": {
   "display_name": "Python 3 (ipykernel)",
   "language": "python",
   "name": "python3"
  },
  "language_info": {
   "codemirror_mode": {
    "name": "ipython",
    "version": 3
   },
   "file_extension": ".py",
   "mimetype": "text/x-python",
   "name": "python",
   "nbconvert_exporter": "python",
   "pygments_lexer": "ipython3",
   "version": "3.8.18"
  }
 },
 "nbformat": 4,
 "nbformat_minor": 5
}
